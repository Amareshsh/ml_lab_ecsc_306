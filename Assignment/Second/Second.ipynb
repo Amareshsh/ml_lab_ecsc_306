{
 "cells": [
  {
   "cell_type": "code",
   "execution_count": 8,
   "metadata": {},
   "outputs": [
    {
     "name": "stdout",
     "output_type": "stream",
     "text": [
      "14.35\n",
      "20.4\n",
      "6.4625\n",
      "-1.0925\n",
      "-0.169052\n",
      "22.8259\n"
     ]
    }
   ],
   "source": [
    "# Assignment y = mx+c;\n",
    "\n",
    "#importing the tensor flow and numpy\n",
    "import tensorflow as tf\n",
    "import numpy\n",
    "import numpy as np\n",
    "\n",
    "rng = np.random\n",
    "\n",
    "import matplotlib.pyplot as plt\n",
    "learning_rate = 0.01\n",
    "training_epochs = 1000\n",
    "display_step = 50\n",
    "\n",
    "#initilization of array\n",
    "A = numpy.asarray([12.4 , 13.5 , 18.7 , 12.8])\n",
    "B = numpy.asarray([18.8 , 12.4 , 20.5 , 29.9])\n",
    "x_type = tf.constant([12.4 , 13.5 , 18.7 , 12.8],dtype = tf.float32)\n",
    "y_type = tf.constant([18.8 , 12.4 , 20.5 , 29.9],dtype = tf.float32)\n",
    "num = tf.size(x_type,out_type = tf.float32)\n",
    "\n",
    "#calculating the mean of x and y\n",
    "x_mean = tf.reduce_mean(x_type)\n",
    "y_mean = tf.reduce_mean(y_type)\n",
    "\n",
    "#calculating the variance of x\n",
    "x_var1 = tf.subtract(x_type, x_mean)\n",
    "x_var = tf.multiply(x_var1, x_var1)\n",
    "x_var = tf.reduce_sum(x_var)\n",
    "x_var = tf.divide(x_var,num)\n",
    "\n",
    "#calculating co-variance of x and y\n",
    "temp1 = x_var1;\n",
    "temp2 = tf.subtract(y_type,y_mean)\n",
    "temp = tf.multiply(temp1,temp2)\n",
    "temp = tf.reduce_sum(temp)\n",
    "temp = tf.divide(temp,num)\n",
    "\n",
    "#Calculate value of m \n",
    "m = tf.divide(temp,x_var)\n",
    "\n",
    "#Calculate value of c\n",
    "c = tf.multiply(x_mean,m)\n",
    "c = tf.subtract(y_mean ,c)\n",
    "\n",
    "\n",
    "#starting session to handle exception and graph\n",
    "with tf.Session() as sect:\n",
    "    writer = tf.summary.FileWriter(\"/tmp/tboard/output_homework1\",sect.graph)\n",
    "    print(sect.run(x_mean))\n",
    "    print(sect.run(y_mean))\n",
    "    print(sect.run(x_var))\n",
    "    print(sect.run(temp))\n",
    "    print(sect.run(m))\n",
    "    print(sect.run(c))\n",
    "    writer.close()"
   ]
  },
  {
   "cell_type": "code",
   "execution_count": 2,
   "metadata": {},
   "outputs": [
    {
     "data": {
      "image/png": "[encoded data removed]",
      "text/plain": [
       "<matplotlib.figure.Figure at 0x7f435a16b2e8>"
      ]
     },
     "metadata": {},
     "output_type": "display_data"
    }
   ],
   "source": [
    "#Graphic display without the cost function\n",
    "fit = numpy.polyfit(A, B, deg=1)\n",
    "plt.plot(A, fit[0] * A + fit[1], color='black')\n",
    "plt.scatter(A, B)\n",
    "\n",
    "plt.show()"
   ]
  },
  {
   "cell_type": "code",
   "execution_count": 3,
   "metadata": {
    "collapsed": true
   },
   "outputs": [],
   "source": [
    "#Graph plotting with cost function\n",
    "# tf Graph Input\n",
    "X = tf.placeholder(\"float\")\n",
    "Y = tf.placeholder(\"float\")\n",
    "\n",
    "# Set model weights\n",
    "W = tf.Variable(rng.randn(), name=\"weight\")\n",
    "b = tf.Variable(rng.randn(), name=\"bias\")"
   ]
  },
  {
   "cell_type": "code",
   "execution_count": 4,
   "metadata": {
    "collapsed": true
   },
   "outputs": [],
   "source": [
    "# Construct a linear model\n",
    "pred = tf.add(tf.multiply(X, W), b)"
   ]
  },
  {
   "cell_type": "code",
   "execution_count": 5,
   "metadata": {
    "collapsed": true
   },
   "outputs": [],
   "source": [
    "# Mean squared error\n",
    "cost = tf.reduce_sum(tf.pow(pred-Y, 2))/(2*num)\n",
    "# Gradient descent\n",
    "optimizer = tf.train.GradientDescentOptimizer(learning_rate).minimize(cost)"
   ]
  },
  {
   "cell_type": "code",
   "execution_count": 6,
   "metadata": {
    "collapsed": true
   },
   "outputs": [],
   "source": [
    "# Initializing the variables\n",
    "init = tf.global_variables_initializer()"
   ]
  },
  {
   "cell_type": "code",
   "execution_count": 9,
   "metadata": {},
   "outputs": [
    {
     "name": "stdout",
     "output_type": "stream",
     "text": [
      "Epoch: 0050 cost= 88.569778442 W= 0.598958 b= 0.215842\n",
      "Epoch: 0100 cost= 34.417129517 W= 1.09655 b= 0.252901\n",
      "Epoch: 0150 cost= 28.075151443 W= 1.26707 b= 0.267855\n",
      "Epoch: 0200 cost= 27.337596893 W= 1.3254 b= 0.275227\n",
      "Epoch: 0250 cost= 27.252407074 W= 1.34526 b= 0.279997\n",
      "Epoch: 0300 cost= 27.241571426 W= 1.35192 b= 0.283875\n",
      "Epoch: 0350 cost= 27.238658905 W= 1.35405 b= 0.287447\n",
      "Epoch: 0400 cost= 27.236400604 W= 1.35463 b= 0.290913\n",
      "Epoch: 0450 cost= 27.234115601 W= 1.35468 b= 0.294343\n",
      "Epoch: 0500 cost= 27.231801987 W= 1.35455 b= 0.29776\n",
      "Epoch: 0550 cost= 27.229478836 W= 1.35435 b= 0.301171\n",
      "Epoch: 0600 cost= 27.227142334 W= 1.35413 b= 0.304581\n",
      "Epoch: 0650 cost= 27.224809647 W= 1.3539 b= 0.30799\n",
      "Epoch: 0700 cost= 27.222475052 W= 1.35367 b= 0.311398\n",
      "Epoch: 0750 cost= 27.220140457 W= 1.35344 b= 0.314806\n",
      "Epoch: 0800 cost= 27.217807770 W= 1.35321 b= 0.318214\n",
      "Epoch: 0850 cost= 27.215475082 W= 1.35298 b= 0.32162\n",
      "Epoch: 0900 cost= 27.213142395 W= 1.35275 b= 0.325026\n",
      "Epoch: 0950 cost= 27.210809708 W= 1.35252 b= 0.328433\n",
      "Epoch: 1000 cost= 27.208482742 W= 1.35229 b= 0.331837\n",
      "Optimization Finished!\n",
      "Training cost= 27.2085 W= 1.35229 b= 0.331837 \n",
      "\n"
     ]
    },
    {
     "data": {
      "image/png": "[encoded data removed]",
      "text/plain": [
       "<matplotlib.figure.Figure at 0x7f43545ac6a0>"
      ]
     },
     "metadata": {},
     "output_type": "display_data"
    }
   ],
   "source": [
    "# Launch the graph\n",
    "with tf.Session() as graph:\n",
    "    graph.run(init)\n",
    "    with tf.Session() as sess:\n",
    "        sess.run(init)\n",
    "\n",
    "        # Fit all training data\n",
    "        for epoch in range(training_epochs):\n",
    "            for (p, r) in zip(A, B):\n",
    "                sess.run(optimizer, feed_dict={X: p, Y: r})\n",
    "\n",
    "            # Display logs per epoch step\n",
    "            if (epoch+1) % display_step == 0:\n",
    "                c = sess.run(cost, feed_dict={X: A, Y:B})\n",
    "                print(\"Epoch:\", '%04d' % (epoch+1), \"cost=\", \"{:.9f}\".format(c), \\\n",
    "                    \"W=\", sess.run(W), \"b=\", sess.run(b))\n",
    "\n",
    "        print(\"Optimization Finished!\")\n",
    "        training_cost = sess.run(cost, feed_dict={X: A, Y: B})\n",
    "        print(\"Training cost=\", training_cost, \"W=\", sess.run(W), \"b=\", sess.run(b), '\\n')\n",
    "\n",
    "        # Graphic display\n",
    "        plt.plot(A, B, 'ro', label='Original data')\n",
    "        plt.plot(A, sess.run(W) * A + sess.run(b), label='Fitted line')\n",
    "        plt.legend()\n",
    "        plt.show()"
   ]
  }
 ],
 "metadata": {
  "kernelspec": {
   "display_name": "Python 3",
   "language": "python",
   "name": "python3"
  },
  "language_info": {
   "codemirror_mode": {
    "name": "ipython",
    "version": 3
   },
   "file_extension": ".py",
   "mimetype": "text/x-python",
   "name": "python",
   "nbconvert_exporter": "python",
   "pygments_lexer": "ipython3",
   "version": "3.6.1"
  }
 },
 "nbformat": 4,
 "nbformat_minor": 2
}

{
 "cells": [
  {
   "cell_type": "code",
   "execution_count": 30,
   "metadata": {},
   "outputs": [
    {
     "name": "stdout",
     "output_type": "stream",
     "text": [
      "14.35\n",
      "20.4\n",
      "6.4625\n",
      "-1.0925\n",
      "-0.169052\n",
      "22.8259\n"
     ]
    }
   ],
   "source": [
    "# Assignment y = mx+c;\n",
    "\n",
    "#importing the tensor flow and numpy\n",
    "import tensorflow as tf\n",
    "import matplotlib.pyplot as plt\n",
    "import numpy\n",
    "\n",
    "#initilization of array\n",
    "A = numpy.asarray([12.4 , 13.5 , 18.7 , 12.8])\n",
    "B = numpy.asarray([18.8 , 12.4 , 20.5 , 29.9])\n",
    "x = tf.constant([12.4 , 13.5 , 18.7 , 12.8],dtype = tf.float32)\n",
    "y = tf.constant([18.8 , 12.4 , 20.5 , 29.9],dtype = tf.float32)\n",
    "num = tf.size(x,out_type = tf.float32)\n",
    "\n",
    "#calculating the mean of x and y\n",
    "x_mean = tf.reduce_mean(x)\n",
    "y_mean = tf.reduce_mean(y)\n",
    "\n",
    "#calculating the variance of x\n",
    "x_var1 = tf.subtract(x , x_mean)\n",
    "x_var = tf.multiply(x_var1, x_var1)\n",
    "x_var = tf.reduce_sum(x_var)\n",
    "x_var = tf.divide(x_var,num)\n",
    "\n",
    "#calculating co-variance of x and y\n",
    "temp1 = x_var1;\n",
    "temp2 = tf.subtract(y,y_mean)\n",
    "temp = tf.multiply(temp1,temp2)\n",
    "temp = tf.reduce_sum(temp)\n",
    "temp = tf.divide(temp,num)\n",
    "\n",
    "#Calculate value of m \n",
    "m = tf.divide(temp,x_var)\n",
    "\n",
    "#Calculate value of c\n",
    "c = tf.multiply(x_mean,m)\n",
    "c = tf.subtract(y_mean ,c)\n",
    "\n",
    "\n",
    "#starting session to handle exception and graph\n",
    "with tf.Session() as sect:\n",
    "    writer = tf.summary.FileWriter(\"/tmp/tboard/output_homework1\",sect.graph)\n",
    "    print(sect.run(x_mean))\n",
    "    print(sect.run(y_mean))\n",
    "    print(sect.run(x_var))\n",
    "    print(sect.run(temp))\n",
    "    print(sect.run(m))\n",
    "    print(sect.run(c))\n",
    "    writer.close()\n",
    "\n",
    "\n"
   ]
  },
  {
   "cell_type": "code",
   "execution_count": 38,
   "metadata": {},
   "outputs": [
    {
     "data": {
      "image/png": "[encoded data removed]",
      "text/plain": [
       "<matplotlib.figure.Figure at 0x7fce704780b8>"
      ]
     },
     "metadata": {},
     "output_type": "display_data"
    }
   ],
   "source": [
    "#Graphic display\n",
    "fit = numpy.polyfit(A, B, deg=1)\n",
    "plt.plot(A, fit[0] * A + fit[1], color='black')\n",
    "plt.scatter(A, B)\n",
    "\n",
    "plt.show()"
   ]
  },
  {
   "cell_type": "code",
   "execution_count": null,
   "metadata": {
    "collapsed": true
   },
   "outputs": [],
   "source": []
  }
 ],
 "metadata": {
  "kernelspec": {
   "display_name": "Python 3",
   "language": "python",
   "name": "python3"
  },
  "language_info": {
   "codemirror_mode": {
    "name": "ipython",
    "version": 3
   },
   "file_extension": ".py",
   "mimetype": "text/x-python",
   "name": "python",
   "nbconvert_exporter": "python",
   "pygments_lexer": "ipython3",
   "version": "3.6.1"
  }
 },
 "nbformat": 4,
 "nbformat_minor": 2
}
